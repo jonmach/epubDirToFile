{
 "cells": [
  {
   "cell_type": "markdown",
   "metadata": {},
   "source": [
    "Notebook to convert epub directories (as stored in Mac iBooks directory) back to a file\n",
    "\n",
    "The idea is that you need to convert the contents of the epub directory to a zip file format (with a .epub suffix)\n",
    "\n",
    "That file is then a valid epub document that iBooks or Calibre can open.  You can then delete the directory with the modified suffix.\n"
   ]
  },
  {
   "cell_type": "code",
   "execution_count": 1,
   "metadata": {},
   "outputs": [],
   "source": [
    "import pathlib\n",
    "import glob\n",
    "import os\n",
    "import zipfile\n"
   ]
  },
  {
   "cell_type": "code",
   "execution_count": 2,
   "metadata": {},
   "outputs": [],
   "source": [
    "# Extract the relevant components of a full path\n",
    "def pathComponents(fullpath):\n",
    "    path = pathlib.Path(fullpath)\n",
    "    name = path.name\n",
    "    stem = path.stem\n",
    "    suffix = path.suffix\n",
    "    parent = path.parent\n",
    "    return name, stem, suffix, parent\n",
    "\n",
    "# Get directories in your path that have a .epub suffix\n",
    "def getePubDirs(path):\n",
    "    epubSearch = os.path.join(path, \"*\" + \".\" + \"epub\")\n",
    "    eDirs=[]\n",
    "    for p in glob.glob(epubSearch):\n",
    "        if (os.path.isdir(p)):    # Only if it's an epub directory\n",
    "            eDirs.append(p)\n",
    "    return eDirs\n",
    "\n",
    "def createZipFile(fname, files):\n",
    "    zFile = zipfile.ZipFile(fname, mode='w', compression=zipfile.ZIP_DEFLATED)\n",
    "    for f in files:\n",
    "        zFile.write(f)\n",
    "    zFile.close()\n",
    "    \n",
    "def convertDirToePub(dirname):\n",
    "    name, stem, suffix, parent = pathComponents(dirname)        # get dirname details\n",
    "    newdirname = zFile = str(parent) + \"/\" + name + \".ori\"\n",
    "    zFile = str(parent) + \"/\" + stem + \".epub\"\n",
    "    os.rename(dirname,newdirname)     # rename the epub dir so the epub can take its old name\n",
    "    # get all the files within the epub directory\n",
    "    os.chdir(newdirname) # We need to be in directory so the resultant epub paths are correct\n",
    "    everything = [os.path.join(r,file) for r,d,f in os.walk(\".\") for file in f]\n",
    "    createZipFile(zFile, everything)  # Create a zip file containing all those files\n",
    "    os.chdir(parent)\n"
   ]
  },
  {
   "cell_type": "code",
   "execution_count": 11,
   "metadata": {
    "scrolled": false
   },
   "outputs": [
    {
     "name": "stdout",
     "output_type": "stream",
     "text": [
      "0 docs to convert\n",
      "Done!\n"
     ]
    }
   ],
   "source": [
    "dirtoconvert='/Users/<username>/tmp/Booksdir'\n",
    "\n",
    "eDirs = getePubDirs(dirtoconvert)\n",
    "totalDirs=len(eDirs)\n",
    "print(totalDirs, \"docs to convert\")\n",
    "ctr=1\n",
    "for i in eDirs:\n",
    "    print(ctr, \"of\", totalDirs, \": Converting \", i)\n",
    "    convertDirToePub(i)\n",
    "    ctr = ctr + 1\n",
    "print(\"Done!\")  \n"
   ]
  },
  {
   "cell_type": "code",
   "execution_count": null,
   "metadata": {},
   "outputs": [],
   "source": []
  }
 ],
 "metadata": {
  "kernelspec": {
   "display_name": "Python 3",
   "language": "python",
   "name": "python3"
  },
  "language_info": {
   "codemirror_mode": {
    "name": "ipython",
    "version": 3
   },
   "file_extension": ".py",
   "mimetype": "text/x-python",
   "name": "python",
   "nbconvert_exporter": "python",
   "pygments_lexer": "ipython3",
   "version": "3.7.3"
  }
 },
 "nbformat": 4,
 "nbformat_minor": 2
}
